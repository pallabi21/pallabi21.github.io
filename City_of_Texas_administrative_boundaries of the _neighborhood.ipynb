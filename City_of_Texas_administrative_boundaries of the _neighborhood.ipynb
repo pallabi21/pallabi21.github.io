{
 "cells": [
  {
   "cell_type": "code",
   "execution_count": null,
   "id": "7b1feb51",
   "metadata": {},
   "outputs": [],
   "source": [
    "### first lets convert csv file into a GeoJSON file."
   ]
  },
  {
   "cell_type": "code",
   "execution_count": 9,
   "id": "db77c0a2",
   "metadata": {},
   "outputs": [
    {
     "name": "stdout",
     "output_type": "stream",
     "text": [
      "Requirement already satisfied: geopandas in /usr/local/lib/python3.10/site-packages (0.13.2)\n",
      "Requirement already satisfied: pandas in /usr/local/lib/python3.10/site-packages (2.1.4)\n",
      "Requirement already satisfied: shapely in /usr/local/lib/python3.10/site-packages (2.0.6)\n",
      "Requirement already satisfied: fiona>=1.8.19 in /usr/local/lib/python3.10/site-packages (from geopandas) (1.9.6)\n",
      "Requirement already satisfied: packaging in /usr/local/lib/python3.10/site-packages (from geopandas) (22.0)\n",
      "Requirement already satisfied: pyproj>=3.0.1 in /usr/local/lib/python3.10/site-packages (from geopandas) (3.7.0)\n",
      "Requirement already satisfied: numpy<2,>=1.22.4 in /usr/local/lib/python3.10/site-packages (from pandas) (1.24.2)\n",
      "Requirement already satisfied: python-dateutil>=2.8.2 in /usr/local/lib/python3.10/site-packages (from pandas) (2.8.2)\n",
      "Requirement already satisfied: pytz>=2020.1 in /usr/local/lib/python3.10/site-packages (from pandas) (2022.7)\n",
      "Requirement already satisfied: tzdata>=2022.1 in /usr/local/lib/python3.10/site-packages (from pandas) (2024.2)\n",
      "Requirement already satisfied: attrs>=19.2.0 in /usr/local/lib/python3.10/site-packages (from fiona>=1.8.19->geopandas) (25.1.0)\n",
      "Requirement already satisfied: certifi in /usr/local/lib/python3.10/site-packages (from fiona>=1.8.19->geopandas) (2025.1.31)\n",
      "Requirement already satisfied: click~=8.0 in /usr/local/lib/python3.10/site-packages (from fiona>=1.8.19->geopandas) (8.1.8)\n",
      "Requirement already satisfied: click-plugins>=1.0 in /usr/local/lib/python3.10/site-packages (from fiona>=1.8.19->geopandas) (1.1.1)\n",
      "Requirement already satisfied: cligj>=0.5 in /usr/local/lib/python3.10/site-packages (from fiona>=1.8.19->geopandas) (0.7.2)\n",
      "Requirement already satisfied: six in /usr/local/lib/python3.10/site-packages (from fiona>=1.8.19->geopandas) (1.17.0)\n"
     ]
    }
   ],
   "source": [
    "!pip install geopandas pandas shapely\n"
   ]
  },
  {
   "cell_type": "code",
   "execution_count": 11,
   "id": "ca432425",
   "metadata": {},
   "outputs": [
    {
     "name": "stdout",
     "output_type": "stream",
     "text": [
      "GeoJSON file saved as Texas_StratMap_County_poly.geojson\n"
     ]
    }
   ],
   "source": [
    "import pandas as pd\n",
    "import geopandas as gpd\n",
    "from shapely.wkt import loads\n",
    "\n",
    "# Loading the CSV file\n",
    "csv_file = \"Texas_StratMap_County_poly_20250212.csv\"\n",
    "df = pd.read_csv(csv_file)\n",
    "\n",
    "# Converting WKT geometry to Shapely objects\n",
    "df['geometry'] = df['the_geom'].apply(lambda x: loads(x) if pd.notnull(x) else None)\n",
    "\n",
    "# Droping rows with invalid geometries\n",
    "df = df.dropna(subset=['geometry'])\n",
    "\n",
    "# Converting DataFrame to GeoDataFrame\n",
    "gdf = gpd.GeoDataFrame(df, geometry='geometry', crs=\"EPSG:4326\")\n",
    "\n",
    "# Saveing as GeoJSON\n",
    "geojson_file = \"Texas_StratMap_County_poly.geojson\"\n",
    "gdf.to_file(geojson_file, driver=\"GeoJSON\")\n",
    "\n",
    "print(f\"GeoJSON file saved as {geojson_file}\")\n"
   ]
  },
  {
   "cell_type": "code",
   "execution_count": 14,
   "id": "3862106d",
   "metadata": {},
   "outputs": [
    {
     "name": "stdout",
     "output_type": "stream",
     "text": [
      "254\n"
     ]
    },
    {
     "data": {
      "text/html": [
       "<div>\n",
       "<style scoped>\n",
       "    .dataframe tbody tr th:only-of-type {\n",
       "        vertical-align: middle;\n",
       "    }\n",
       "\n",
       "    .dataframe tbody tr th {\n",
       "        vertical-align: top;\n",
       "    }\n",
       "\n",
       "    .dataframe thead th {\n",
       "        text-align: right;\n",
       "    }\n",
       "</style>\n",
       "<table border=\"1\" class=\"dataframe\">\n",
       "  <thead>\n",
       "    <tr style=\"text-align: right;\">\n",
       "      <th></th>\n",
       "      <th>the_geom</th>\n",
       "      <th>SOURCE</th>\n",
       "      <th>STRATMAP_I</th>\n",
       "      <th>LOCAL_ID</th>\n",
       "      <th>NAME</th>\n",
       "      <th>FIPS_CODE</th>\n",
       "      <th>TXDOT_ABBR</th>\n",
       "      <th>COG_ABBR</th>\n",
       "      <th>DATE_CREAT</th>\n",
       "      <th>DATE_MODIF</th>\n",
       "      <th>DATE_RETIR</th>\n",
       "      <th>SHAPE_Leng</th>\n",
       "      <th>SHAPE_Area</th>\n",
       "      <th>geometry</th>\n",
       "    </tr>\n",
       "  </thead>\n",
       "  <tbody>\n",
       "    <tr>\n",
       "      <th>0</th>\n",
       "      <td>MULTIPOLYGON (((-102.5396299999994 36.05514000...</td>\n",
       "      <td>DRG</td>\n",
       "      <td>None</td>\n",
       "      <td>113</td>\n",
       "      <td>Dallam</td>\n",
       "      <td>111</td>\n",
       "      <td>4</td>\n",
       "      <td>113</td>\n",
       "      <td>01/01/1964 08:00:00 AM +0000</td>\n",
       "      <td>None</td>\n",
       "      <td>None</td>\n",
       "      <td>2.647739</td>\n",
       "      <td>0.391036</td>\n",
       "      <td>MULTIPOLYGON (((-102.53963 36.05514, -102.5834...</td>\n",
       "    </tr>\n",
       "    <tr>\n",
       "      <th>1</th>\n",
       "      <td>MULTIPOLYGON (((-101.62343999999949 36.0553899...</td>\n",
       "      <td>DRG</td>\n",
       "      <td>None</td>\n",
       "      <td>113</td>\n",
       "      <td>Sherman</td>\n",
       "      <td>421</td>\n",
       "      <td>4</td>\n",
       "      <td>113</td>\n",
       "      <td>01/01/1963 08:00:00 AM +0000</td>\n",
       "      <td>None</td>\n",
       "      <td>None</td>\n",
       "      <td>1.968011</td>\n",
       "      <td>0.239757</td>\n",
       "      <td>MULTIPOLYGON (((-101.62344 36.05539, -101.6341...</td>\n",
       "    </tr>\n",
       "    <tr>\n",
       "      <th>2</th>\n",
       "      <td>MULTIPOLYGON (((-101.08517000000039 36.4998599...</td>\n",
       "      <td>DRG</td>\n",
       "      <td>None</td>\n",
       "      <td>113</td>\n",
       "      <td>Hansford</td>\n",
       "      <td>195</td>\n",
       "      <td>4</td>\n",
       "      <td>113</td>\n",
       "      <td>01/01/1973 08:00:00 AM +0000</td>\n",
       "      <td>None</td>\n",
       "      <td>None</td>\n",
       "      <td>1.965535</td>\n",
       "      <td>0.239188</td>\n",
       "      <td>MULTIPOLYGON (((-101.08517 36.49986, -101.0851...</td>\n",
       "    </tr>\n",
       "    <tr>\n",
       "      <th>3</th>\n",
       "      <td>MULTIPOLYGON (((-100.54607000000041 36.4595700...</td>\n",
       "      <td>DRG</td>\n",
       "      <td>None</td>\n",
       "      <td>113</td>\n",
       "      <td>Ochiltree</td>\n",
       "      <td>357</td>\n",
       "      <td>4</td>\n",
       "      <td>113</td>\n",
       "      <td>01/01/1972 08:00:00 AM +0000</td>\n",
       "      <td>None</td>\n",
       "      <td>None</td>\n",
       "      <td>1.967331</td>\n",
       "      <td>0.238828</td>\n",
       "      <td>MULTIPOLYGON (((-100.54607 36.45957, -100.5461...</td>\n",
       "    </tr>\n",
       "    <tr>\n",
       "      <th>4</th>\n",
       "      <td>MULTIPOLYGON (((-100.54019999999956 36.0559900...</td>\n",
       "      <td>DRG</td>\n",
       "      <td>None</td>\n",
       "      <td>113</td>\n",
       "      <td>Lipscomb</td>\n",
       "      <td>295</td>\n",
       "      <td>4</td>\n",
       "      <td>113</td>\n",
       "      <td>01/01/1972 08:00:00 AM +0000</td>\n",
       "      <td>None</td>\n",
       "      <td>None</td>\n",
       "      <td>1.979816</td>\n",
       "      <td>0.242397</td>\n",
       "      <td>MULTIPOLYGON (((-100.54020 36.05599, -100.5462...</td>\n",
       "    </tr>\n",
       "    <tr>\n",
       "      <th>5</th>\n",
       "      <td>MULTIPOLYGON (((-94.74615000000094 33.70300999...</td>\n",
       "      <td>DRG</td>\n",
       "      <td>None</td>\n",
       "      <td>119</td>\n",
       "      <td>Red River</td>\n",
       "      <td>387</td>\n",
       "      <td>1</td>\n",
       "      <td>119</td>\n",
       "      <td>01/01/1951 08:00:00 AM +0000</td>\n",
       "      <td>None</td>\n",
       "      <td>None</td>\n",
       "      <td>3.527775</td>\n",
       "      <td>0.266173</td>\n",
       "      <td>MULTIPOLYGON (((-94.74615 33.70301, -94.74614 ...</td>\n",
       "    </tr>\n",
       "    <tr>\n",
       "      <th>6</th>\n",
       "      <td>MULTIPOLYGON (((-97.48407000000053 33.91522000...</td>\n",
       "      <td>DRG</td>\n",
       "      <td>None</td>\n",
       "      <td>121</td>\n",
       "      <td>Montague</td>\n",
       "      <td>337</td>\n",
       "      <td>3</td>\n",
       "      <td>121</td>\n",
       "      <td>01/01/1968 08:00:00 AM +0000</td>\n",
       "      <td>None</td>\n",
       "      <td>None</td>\n",
       "      <td>2.090197</td>\n",
       "      <td>0.235631</td>\n",
       "      <td>MULTIPOLYGON (((-97.48407 33.91522, -97.48409 ...</td>\n",
       "    </tr>\n",
       "    <tr>\n",
       "      <th>7</th>\n",
       "      <td>MULTIPOLYGON (((-95.31061000000055 33.87967000...</td>\n",
       "      <td>DRG</td>\n",
       "      <td>None</td>\n",
       "      <td>119</td>\n",
       "      <td>Lamar</td>\n",
       "      <td>277</td>\n",
       "      <td>1</td>\n",
       "      <td>119</td>\n",
       "      <td>01/01/1951 08:00:00 AM +0000</td>\n",
       "      <td>None</td>\n",
       "      <td>None</td>\n",
       "      <td>2.716445</td>\n",
       "      <td>0.235193</td>\n",
       "      <td>MULTIPOLYGON (((-95.31061 33.87967, -95.31057 ...</td>\n",
       "    </tr>\n",
       "    <tr>\n",
       "      <th>8</th>\n",
       "      <td>MULTIPOLYGON (((-102.16287999999996 36.0547900...</td>\n",
       "      <td>DRG</td>\n",
       "      <td>None</td>\n",
       "      <td>113</td>\n",
       "      <td>Hartley</td>\n",
       "      <td>205</td>\n",
       "      <td>4</td>\n",
       "      <td>113</td>\n",
       "      <td>01/01/1963 08:00:00 AM +0000</td>\n",
       "      <td>None</td>\n",
       "      <td>None</td>\n",
       "      <td>2.617214</td>\n",
       "      <td>0.377983</td>\n",
       "      <td>MULTIPOLYGON (((-102.16288 36.05479, -102.1629...</td>\n",
       "    </tr>\n",
       "    <tr>\n",
       "      <th>9</th>\n",
       "      <td>MULTIPOLYGON (((-101.62343999999949 36.0553899...</td>\n",
       "      <td>DRG</td>\n",
       "      <td>None</td>\n",
       "      <td>113</td>\n",
       "      <td>Moore</td>\n",
       "      <td>341</td>\n",
       "      <td>4</td>\n",
       "      <td>113</td>\n",
       "      <td>01/01/1953 08:00:00 AM +0000</td>\n",
       "      <td>None</td>\n",
       "      <td>None</td>\n",
       "      <td>1.949866</td>\n",
       "      <td>0.234983</td>\n",
       "      <td>MULTIPOLYGON (((-101.62344 36.05539, -101.6233...</td>\n",
       "    </tr>\n",
       "  </tbody>\n",
       "</table>\n",
       "</div>"
      ],
      "text/plain": [
       "                                            the_geom SOURCE STRATMAP_I  \\\n",
       "0  MULTIPOLYGON (((-102.5396299999994 36.05514000...    DRG       None   \n",
       "1  MULTIPOLYGON (((-101.62343999999949 36.0553899...    DRG       None   \n",
       "2  MULTIPOLYGON (((-101.08517000000039 36.4998599...    DRG       None   \n",
       "3  MULTIPOLYGON (((-100.54607000000041 36.4595700...    DRG       None   \n",
       "4  MULTIPOLYGON (((-100.54019999999956 36.0559900...    DRG       None   \n",
       "5  MULTIPOLYGON (((-94.74615000000094 33.70300999...    DRG       None   \n",
       "6  MULTIPOLYGON (((-97.48407000000053 33.91522000...    DRG       None   \n",
       "7  MULTIPOLYGON (((-95.31061000000055 33.87967000...    DRG       None   \n",
       "8  MULTIPOLYGON (((-102.16287999999996 36.0547900...    DRG       None   \n",
       "9  MULTIPOLYGON (((-101.62343999999949 36.0553899...    DRG       None   \n",
       "\n",
       "   LOCAL_ID       NAME  FIPS_CODE  TXDOT_ABBR  COG_ABBR  \\\n",
       "0       113     Dallam        111           4       113   \n",
       "1       113    Sherman        421           4       113   \n",
       "2       113   Hansford        195           4       113   \n",
       "3       113  Ochiltree        357           4       113   \n",
       "4       113   Lipscomb        295           4       113   \n",
       "5       119  Red River        387           1       119   \n",
       "6       121   Montague        337           3       121   \n",
       "7       119      Lamar        277           1       119   \n",
       "8       113    Hartley        205           4       113   \n",
       "9       113      Moore        341           4       113   \n",
       "\n",
       "                     DATE_CREAT DATE_MODIF DATE_RETIR  SHAPE_Leng  SHAPE_Area  \\\n",
       "0  01/01/1964 08:00:00 AM +0000       None       None    2.647739    0.391036   \n",
       "1  01/01/1963 08:00:00 AM +0000       None       None    1.968011    0.239757   \n",
       "2  01/01/1973 08:00:00 AM +0000       None       None    1.965535    0.239188   \n",
       "3  01/01/1972 08:00:00 AM +0000       None       None    1.967331    0.238828   \n",
       "4  01/01/1972 08:00:00 AM +0000       None       None    1.979816    0.242397   \n",
       "5  01/01/1951 08:00:00 AM +0000       None       None    3.527775    0.266173   \n",
       "6  01/01/1968 08:00:00 AM +0000       None       None    2.090197    0.235631   \n",
       "7  01/01/1951 08:00:00 AM +0000       None       None    2.716445    0.235193   \n",
       "8  01/01/1963 08:00:00 AM +0000       None       None    2.617214    0.377983   \n",
       "9  01/01/1953 08:00:00 AM +0000       None       None    1.949866    0.234983   \n",
       "\n",
       "                                            geometry  \n",
       "0  MULTIPOLYGON (((-102.53963 36.05514, -102.5834...  \n",
       "1  MULTIPOLYGON (((-101.62344 36.05539, -101.6341...  \n",
       "2  MULTIPOLYGON (((-101.08517 36.49986, -101.0851...  \n",
       "3  MULTIPOLYGON (((-100.54607 36.45957, -100.5461...  \n",
       "4  MULTIPOLYGON (((-100.54020 36.05599, -100.5462...  \n",
       "5  MULTIPOLYGON (((-94.74615 33.70301, -94.74614 ...  \n",
       "6  MULTIPOLYGON (((-97.48407 33.91522, -97.48409 ...  \n",
       "7  MULTIPOLYGON (((-95.31061 33.87967, -95.31057 ...  \n",
       "8  MULTIPOLYGON (((-102.16288 36.05479, -102.1629...  \n",
       "9  MULTIPOLYGON (((-101.62344 36.05539, -101.6233...  "
      ]
     },
     "execution_count": 14,
     "metadata": {},
     "output_type": "execute_result"
    }
   ],
   "source": [
    "import geopandas as gpd\n",
    "\n",
    "file_name = 'Texas_StratMap_County_poly.geojson'\n",
    "gdf = gpd.read_file(file_name)\n",
    "\n",
    "print(len(gdf))\n",
    "gdf.head(10)"
   ]
  },
  {
   "cell_type": "code",
   "execution_count": 15,
   "id": "64a08742",
   "metadata": {},
   "outputs": [
    {
     "data": {
      "text/plain": [
       "<Geographic 2D CRS: EPSG:4326>\n",
       "Name: WGS 84\n",
       "Axis Info [ellipsoidal]:\n",
       "- Lat[north]: Geodetic latitude (degree)\n",
       "- Lon[east]: Geodetic longitude (degree)\n",
       "Area of Use:\n",
       "- name: World.\n",
       "- bounds: (-180.0, -90.0, 180.0, 90.0)\n",
       "Datum: World Geodetic System 1984 ensemble\n",
       "- Ellipsoid: WGS 84\n",
       "- Prime Meridian: Greenwich"
      ]
     },
     "execution_count": 15,
     "metadata": {},
     "output_type": "execute_result"
    }
   ],
   "source": [
    "gdf.crs"
   ]
  },
  {
   "cell_type": "code",
   "execution_count": 16,
   "id": "3e928e64",
   "metadata": {},
   "outputs": [
    {
     "data": {
      "text/plain": [
       "<AxesSubplot: >"
      ]
     },
     "execution_count": 16,
     "metadata": {},
     "output_type": "execute_result"
    },
    {
     "data": {
      "image/png": "[encoded data removed]",
      "text/plain": [
       "<Figure size 640x480 with 1 Axes>"
      ]
     },
     "metadata": {},
     "output_type": "display_data"
    }
   ],
   "source": [
    "gdf.plot()"
   ]
  },
  {
   "cell_type": "code",
   "execution_count": 18,
   "id": "076bf875",
   "metadata": {},
   "outputs": [
    {
     "data": {
      "text/plain": [
       "<AxesSubplot: >"
      ]
     },
     "execution_count": 18,
     "metadata": {},
     "output_type": "execute_result"
    },
    {
     "data": {
      "image/png": "[encoded data removed]",
      "text/plain": [
       "<Figure size 640x480 with 1 Axes>"
      ]
     },
     "metadata": {},
     "output_type": "display_data"
    }
   ],
   "source": [
    "gdf.SHAPE_Area.hist()"
   ]
  },
  {
   "cell_type": "code",
   "execution_count": 21,
   "id": "344ce1d1",
   "metadata": {},
   "outputs": [
    {
     "data": {
      "text/plain": [
       "0.391036107"
      ]
     },
     "execution_count": 21,
     "metadata": {},
     "output_type": "execute_result"
    }
   ],
   "source": [
    "gdf.SHAPE_Area.to_list()[0]"
   ]
  },
  {
   "cell_type": "code",
   "execution_count": 22,
   "id": "fba36041",
   "metadata": {},
   "outputs": [
    {
     "name": "stdout",
     "output_type": "stream",
     "text": [
      "<class 'float'>\n"
     ]
    }
   ],
   "source": [
    "#lets see the shape area  type\n",
    "print(type(gdf.SHAPE_Area.to_list()[0]))"
   ]
  },
  {
   "cell_type": "code",
   "execution_count": 30,
   "id": "9f77cdef",
   "metadata": {},
   "outputs": [
    {
     "data": {
      "text/plain": [
       "Text(0.5, 1.0, 'Texas Neighborhood Length')"
      ]
     },
     "execution_count": 30,
     "metadata": {},
     "output_type": "execute_result"
    },
    {
     "data": {
      "image/png": "[encoded data removed]",
      "text/plain": [
       "<Figure size 1000x500 with 2 Axes>"
      ]
     },
     "metadata": {},
     "output_type": "display_data"
    }
   ],
   "source": [
    "import matplotlib.pyplot as plt\n",
    "\n",
    "f, ax= plt.subplots(1,2,figsize=(10,5))\n",
    "\n",
    "gdf.SHAPE_Area.hist(ax=ax[0], bins = 20)\n",
    "gdf.SHAPE_Leng.hist(ax=ax[1], bins = 20)\n",
    "\n",
    "ax[0].set_yscale('log')\n",
    "ax[1].set_yscale('log')\n",
    "\n",
    "\n",
    "ax[0].set_title('Texas Neighborhood Areas', fontsize = 12, pad =16)\n",
    "ax[1].set_title('Texas Neighborhood Length', fontsize = 12, pad =16)\n"
   ]
  },
  {
   "cell_type": "code",
   "execution_count": null,
   "id": "8485a0b6",
   "metadata": {},
   "outputs": [],
   "source": []
  }
 ],
 "metadata": {
  "kernelspec": {
   "display_name": "Python 3 (ipykernel)",
   "language": "python",
   "name": "python3"
  },
  "language_info": {
   "codemirror_mode": {
    "name": "ipython",
    "version": 3
   },
   "file_extension": ".py",
   "mimetype": "text/x-python",
   "name": "python",
   "nbconvert_exporter": "python",
   "pygments_lexer": "ipython3",
   "version": "3.10.9"
  }
 },
 "nbformat": 4,
 "nbformat_minor": 5
}
